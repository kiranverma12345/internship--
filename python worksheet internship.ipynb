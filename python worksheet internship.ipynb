{
 "cells": [
  {
   "cell_type": "markdown",
   "id": "d6894bda",
   "metadata": {},
   "source": [
    "# 11.  python program to find the factorial  of a number"
   ]
  },
  {
   "cell_type": "code",
   "execution_count": null,
   "id": "2a48ad7b",
   "metadata": {},
   "outputs": [],
   "source": [
    "import pandas as pd \n",
    "import numpy as np"
   ]
  },
  {
   "cell_type": "code",
   "execution_count": 12,
   "id": "d999f71e",
   "metadata": {},
   "outputs": [
    {
     "name": "stdout",
     "output_type": "stream",
     "text": [
      "The factorial of  7 is 1\n",
      "The factorial of  7 is 2\n",
      "The factorial of  7 is 6\n",
      "The factorial of  7 is 24\n",
      "The factorial of  7 is 120\n",
      "The factorial of  7 is 720\n",
      "The factorial of  7 is 5040\n"
     ]
    }
   ],
   "source": [
    "num =7\n",
    "factorial = 1\n",
    "\n",
    "if num<0:\n",
    "    print(\"Sorry , factorial does not exist for negative numbers\")\n",
    "elif num == 0:\n",
    "        print ('The factorial of 0 is 1')\n",
    "else:\n",
    "            for i in range (1,num+1):\n",
    "                factorial = factorial*i\n",
    "                print (\"The factorial of \", num,\"is\", factorial)"
   ]
  },
  {
   "cell_type": "markdown",
   "id": "c63d26d2",
   "metadata": {},
   "source": [
    "# 12. Write a python program to find whether a number is prime or composite."
   ]
  },
  {
   "cell_type": "code",
   "execution_count": 33,
   "id": "f87a7185",
   "metadata": {},
   "outputs": [
    {
     "name": "stdout",
     "output_type": "stream",
     "text": [
      "Enter any number :4\n",
      "4  is not  prime but composite number \n"
     ]
    }
   ],
   "source": [
    "n= int (input(\"Enter any number :\"))\n",
    "if (n==0 or n==1):\n",
    "    print(n,\" Number is neither prime or nor composite\")\n",
    "elif n>1:\n",
    "        for i in range (2,n):\n",
    "            if(n%i ==0):\n",
    "                print(n,\" is not  prime but composite number \")\n",
    "            break\n",
    "        else:\n",
    "                print(n, \" number is prime but not composite number \")\n",
    "else:\n",
    "                    print(\"Please enter positive number only \")\n",
    "                \n",
    "            \n",
    "    "
   ]
  },
  {
   "cell_type": "markdown",
   "id": "754e8d6b",
   "metadata": {},
   "source": [
    "# 13. Write a python program to check whether a given string is palindrome or not."
   ]
  },
  {
   "cell_type": "code",
   "execution_count": 36,
   "id": "c24fd571",
   "metadata": {},
   "outputs": [
    {
     "name": "stdout",
     "output_type": "stream",
     "text": [
      "The string  is a palindrome.\n"
     ]
    }
   ],
   "source": [
    "my_str = \"mom\"\n",
    "\n",
    "my_str = my_str.casefold() #make is suitable for caseless comparison\n",
    "rev_str = reversed(my_str) #reverse the string\n",
    "if list (my_str) == list(rev_str):\n",
    "    print(\"The string  is a palindrome.\")\n",
    "else:\n",
    "     print(\"The string is not a palindrome\")"
   ]
  },
  {
   "cell_type": "markdown",
   "id": "2fe26923",
   "metadata": {},
   "source": [
    "# 14. Write a Python program to get the third side of right-angled triangle from two given sides."
   ]
  },
  {
   "cell_type": "code",
   "execution_count": 42,
   "id": "4ca1745d",
   "metadata": {
    "scrolled": true
   },
   "outputs": [
    {
     "name": "stdout",
     "output_type": "stream",
     "text": [
      "Hypotenuse = 5.0\n",
      "Adjacent = 4.0\n",
      "Opposite = 3.0\n",
      "You know the answer!\n"
     ]
    }
   ],
   "source": [
    "def pythagoras(opposite_side,adjacent_side,hypotenuse):\n",
    "        if opposite_side == str(\"x\"):\n",
    "            return (\"Opposite = \" + str(((hypotenuse**2) - (adjacent_side**2))**0.5))\n",
    "        elif adjacent_side == str(\"x\"):\n",
    "            return (\"Adjacent = \" + str(((hypotenuse**2) - (opposite_side**2))**0.5))\n",
    "        elif hypotenuse == str(\"x\"):\n",
    "            return (\"Hypotenuse = \" + str(((opposite_side**2) + (adjacent_side**2))**0.5))\n",
    "        else:\n",
    "            return \"You know the answer!\"\n",
    "    \n",
    "print(pythagoras(3,4,'x'))\n",
    "print(pythagoras(3,'x',5))\n",
    "print(pythagoras('x',4,5))\n",
    "print(pythagoras(3,4,5))\n"
   ]
  },
  {
   "cell_type": "markdown",
   "id": "c58b0358",
   "metadata": {},
   "source": [
    "# 15. Write a python program to print the frequency of each of the characters present in a given string"
   ]
  },
  {
   "cell_type": "code",
   "execution_count": 43,
   "id": "9c733109",
   "metadata": {},
   "outputs": [
    {
     "name": "stdout",
     "output_type": "stream",
     "text": [
      "count of all characters in  KiranVerma is : \n",
      "{'K': 1}\n",
      "count of all characters in  KiranVerma is : \n",
      "{'K': 1, 'i': 1}\n",
      "count of all characters in  KiranVerma is : \n",
      "{'K': 1, 'i': 1, 'r': 1}\n",
      "count of all characters in  KiranVerma is : \n",
      "{'K': 1, 'i': 1, 'r': 1, 'a': 1}\n",
      "count of all characters in  KiranVerma is : \n",
      "{'K': 1, 'i': 1, 'r': 1, 'a': 1, 'n': 1}\n",
      "count of all characters in  KiranVerma is : \n",
      "{'K': 1, 'i': 1, 'r': 1, 'a': 1, 'n': 1, 'V': 1}\n",
      "count of all characters in  KiranVerma is : \n",
      "{'K': 1, 'i': 1, 'r': 1, 'a': 1, 'n': 1, 'V': 1, 'e': 1}\n",
      "count of all characters in  KiranVerma is : \n",
      "{'K': 1, 'i': 1, 'r': 2, 'a': 1, 'n': 1, 'V': 1, 'e': 1}\n",
      "count of all characters in  KiranVerma is : \n",
      "{'K': 1, 'i': 1, 'r': 2, 'a': 1, 'n': 1, 'V': 1, 'e': 1, 'm': 1}\n",
      "count of all characters in  KiranVerma is : \n",
      "{'K': 1, 'i': 1, 'r': 2, 'a': 2, 'n': 1, 'V': 1, 'e': 1, 'm': 1}\n"
     ]
    }
   ],
   "source": [
    "# dict.get()\n",
    "test_str = \"KiranVerma\"\n",
    "res ={} # using dict .get()to count of each element in string \n",
    "\n",
    "for keys in test_str:\n",
    "    res[keys] = res.get(keys,0) + 1\n",
    "    \n",
    "    print(\"count of all characters in  KiranVerma is : \\n\" + str(res))\n"
   ]
  },
  {
   "cell_type": "code",
   "execution_count": null,
   "id": "a42526d6",
   "metadata": {},
   "outputs": [],
   "source": []
  }
 ],
 "metadata": {
  "kernelspec": {
   "display_name": "Python 3 (ipykernel)",
   "language": "python",
   "name": "python3"
  },
  "language_info": {
   "codemirror_mode": {
    "name": "ipython",
    "version": 3
   },
   "file_extension": ".py",
   "mimetype": "text/x-python",
   "name": "python",
   "nbconvert_exporter": "python",
   "pygments_lexer": "ipython3",
   "version": "3.9.13"
  }
 },
 "nbformat": 4,
 "nbformat_minor": 5
}
